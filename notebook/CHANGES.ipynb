{
 "cells": [
  {
   "cell_type": "markdown",
   "metadata": {},
   "source": [
    "# FOR INDIVIDUAL LEVEL OBESITY AND BMI RANGE "
   ]
  },
  {
   "cell_type": "code",
   "execution_count": null,
   "metadata": {},
   "outputs": [],
   "source": [
    "# Iterate over unique values in 'NObeyesdad' column\n",
    "for label in df['NObeyesdad'].unique():\n",
    "    # Filter the DataFrame for the current unique label\n",
    "    filtered_df = df[df['NObeyesdad'] == label]\n",
    "    # Calculate BMI for the filtered rows\n",
    "    filtered_df['BMI'] = filtered_df.apply(lambda row: BMI(row['Weight'], row['Height']), axis=1)\n",
    "    # Print the label, corresponding BMI values, min and max\n",
    "    print(f\"For NObeyesdad = {label}:\")\n",
    "    bmi_values = filtered_df['BMI']\n",
    "    print(\"BMI values:\", bmi_values)\n",
    "    print(\"Minimum BMI:\", bmi_values.min())\n",
    "    print(\"Maximum BMI:\", bmi_values.max())\n"
   ]
  },
  {
   "cell_type": "markdown",
   "metadata": {},
   "source": [
    "# MAKE ANOTHER DF AND CAHNGE THE OBESITY LEVELS AND REPEAT THE EDA"
   ]
  },
  {
   "cell_type": "code",
   "execution_count": 4,
   "metadata": {},
   "outputs": [
    {
     "name": "stdout",
     "output_type": "stream",
     "text": [
      "(27.52, 'OVERWEIGHT CLASS-2')\n"
     ]
    }
   ],
   "source": [
    "import pandas as pd \n",
    "def BMI(weight, height):\n",
    "    bmi = weight / (height**2)\n",
    "\n",
    "    ranges = ['0 - 18.5', '18.5 - 24.9', '25 - 27.45', '27/45 - 29.9', '30 - 34.9', '35 - 39.5', '40 - 1000000']\n",
    "    levels = ['UNDERWEIGHT', 'NORMAL', 'OVERWEIGHT CLASS-1', 'OVERWEIGHT CLASS-2', 'OBESITY CLASS-1', 'OBESITY CLASS-2', 'OBESITY CLASS-3']\n",
    "    ob = pd.DataFrame({'Range': ranges, 'Level': levels})\n",
    "\n",
    "    for i, r in enumerate(ranges):\n",
    "        if bmi < float(r.split(\" - \")[1]):\n",
    "            return bmi, levels[i]\n",
    "\n",
    "print(BMI(43, 1.25))\n"
   ]
  },
  {
   "cell_type": "code",
   "execution_count": null,
   "metadata": {},
   "outputs": [],
   "source": [
    "\n",
    "from src.components.model_trainer import ModelTrainerConfig\n",
    "from src.components.model_trainer import ModelTrainer\n",
    "\n",
    "    modeltrainer=ModelTrainer()\n",
    "    print(modeltrainer.Initiate_Model_Trainer(train_arr,test_arr))\n",
    "          "
   ]
  }
 ],
 "metadata": {
  "kernelspec": {
   "display_name": "Python 3",
   "language": "python",
   "name": "python3"
  },
  "language_info": {
   "codemirror_mode": {
    "name": "ipython",
    "version": 3
   },
   "file_extension": ".py",
   "mimetype": "text/x-python",
   "name": "python",
   "nbconvert_exporter": "python",
   "pygments_lexer": "ipython3",
   "version": "3.10.11"
  }
 },
 "nbformat": 4,
 "nbformat_minor": 2
}
